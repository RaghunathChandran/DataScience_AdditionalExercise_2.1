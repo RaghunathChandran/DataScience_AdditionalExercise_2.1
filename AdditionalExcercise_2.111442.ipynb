{
 "cells": [
  {
   "cell_type": "markdown",
   "metadata": {},
   "source": [
    "## Please replace the astricks (****) with the required logic in the following exercises"
   ]
  },
  {
   "cell_type": "markdown",
   "metadata": {},
   "source": [
    "## 1) Write a python program to print from 1 to 6 except 3 and 6\n",
    "\n",
    "## Expected Output:\n",
    "1\n",
    "2\n",
    "4\n",
    "5"
   ]
  },
  {
   "cell_type": "code",
   "execution_count": 1,
   "metadata": {},
   "outputs": [
    {
     "name": "stdout",
     "output_type": "stream",
     "text": [
      "1 2 4 5 "
     ]
    }
   ],
   "source": [
    "# Iterate over range from 1 to 6 using for loop\n",
    "for x in range(1, 6):\n",
    "    \n",
    "#check if x is 3 or 6\n",
    "    if(x == 3 or x == 6):\n",
    "        continue\n",
    "#else print all using whitespace between elements\n",
    "    print(x, end = \" \")"
   ]
  },
  {
   "cell_type": "markdown",
   "metadata": {},
   "source": [
    "## 2)Write a Python program to construct the following pattern, using a nested for loop."
   ]
  },
  {
   "cell_type": "raw",
   "metadata": {},
   "source": [
    "\n",
    "*\n",
    "**\n",
    "***\n",
    "****\n",
    "*****\n",
    "****\n",
    "***\n",
    "**\n",
    "*\n"
   ]
  },
  {
   "cell_type": "code",
   "execution_count": 2,
   "metadata": {},
   "outputs": [
    {
     "name": "stdout",
     "output_type": "stream",
     "text": [
      "\n",
      "*\n",
      "**\n",
      "***\n",
      "****\n",
      "*****\n",
      "****\n",
      "***\n",
      "**\n",
      "*\n"
     ]
    }
   ],
   "source": [
    "# Initialize n to the maximum number of stars\n",
    "n=5\n",
    "#Iterate over range(n)\n",
    "for i in range(0,n):\n",
    "    #Iterate over range(i)\n",
    "    for j in range(i):\n",
    "       #print * , use end to get no white spaces in between the stars\n",
    "        print ('*', end=\"\")\n",
    "    print('')\n",
    "\n",
    "# Iterate over range(n)\n",
    "for i in range(n,0,-1):\n",
    "\n",
    "    #Iterate over range(i-1)\n",
    "    for j in range(0,i):\n",
    "        #print * , use end to get\n",
    "        print ('*',end=\"\")\n",
    "    #print '*'\n",
    "    print('')"
   ]
  },
  {
   "cell_type": "markdown",
   "metadata": {},
   "source": [
    "## 3) Write a python program to print the sum of the first 10 numbers         using while loop\n",
    "\n",
    "## Expected Output:\n",
    "\n",
    "## The sum of the first 10 integers:\n",
    "\n",
    "55"
   ]
  },
  {
   "cell_type": "code",
   "execution_count": 3,
   "metadata": {},
   "outputs": [
    {
     "name": "stdout",
     "output_type": "stream",
     "text": [
      "The sum of the first 10 integers:55 \n"
     ]
    }
   ],
   "source": [
    "# Initialize x to 1\n",
    "x=1\n",
    "# Initialize s to 0\n",
    "s=0\n",
    "# Iterate over x till 10\n",
    "while (x<=10):\n",
    "# Add each x to s\n",
    "    s+=x\n",
    "# Increment x by 1\n",
    "    x+=1\n",
    "#when x>10, print s\n",
    "print(\"The sum of the first 10 integers:{} \".format(s))"
   ]
  },
  {
   "cell_type": "markdown",
   "metadata": {},
   "source": [
    "## 4) Print the whether the number is positive or negative"
   ]
  },
  {
   "cell_type": "code",
   "execution_count": 4,
   "metadata": {},
   "outputs": [
    {
     "name": "stdout",
     "output_type": "stream",
     "text": [
      "negative number\n"
     ]
    }
   ],
   "source": [
    "#initialize any negative number or positive number\n",
    "num = -1\n",
    "#check if num>0\n",
    "if (num > 0):\n",
    "#print the number is positive\n",
    "    print(\"positive number\")\n",
    "#use elif to check number is zero\n",
    "elif (num == 0):\n",
    "    print(\"Zero\")\n",
    "#else print the number is negative\n",
    "else:\n",
    "    print(\"negative number\")"
   ]
  },
  {
   "cell_type": "markdown",
   "metadata": {},
   "source": [
    "## 5) Convert temperature in Celsius to Fahrenheit using map() and lambda functions\n",
    "\n",
    "## Sample input\n",
    "Celsius = [49.2, 26.5, 47.3, 47.8]\n",
    "\n",
    "## Expected Output\n",
    "[120.56, 79.7, 117.14, 118.03999999999999]"
   ]
  },
  {
   "cell_type": "code",
   "execution_count": 7,
   "metadata": {},
   "outputs": [
    {
     "name": "stdout",
     "output_type": "stream",
     "text": [
      "[120.56, 79.7, 117.14, 118.04]\n"
     ]
    }
   ],
   "source": [
    "# Initialize list\n",
    "Celsius = [49.2, 26.5, 47.3, 47.8]\n",
    "#use map() and lambda,convert to Fahrenheit\n",
    "#map(function,list)\n",
    "Fahrenheit = list(map(lambda x: round(9/5*x+32, 2), Celsius))\n",
    "#print Fahrenheit\n",
    "print(Fahrenheit)"
   ]
  },
  {
   "cell_type": "markdown",
   "metadata": {},
   "source": [
    "## 6) Implement a function longestWord() that takes a list of words and returns the longest one.\n",
    "\n",
    "## Sample Word List\n",
    "word= [\"January\",\"Feburary\",\"March\",\"April\",\"May\",\"June\",\"July\"]\n",
    "\n",
    "## Expected Output\n",
    "Feburary"
   ]
  },
  {
   "cell_type": "code",
   "execution_count": 8,
   "metadata": {},
   "outputs": [
    {
     "name": "stdout",
     "output_type": "stream",
     "text": [
      "Feburary\n"
     ]
    }
   ],
   "source": [
    "#initialise the list\n",
    "words_list= [\"January\",\"Feburary\",\"March\",\"April\",\"May\",\"June\",\"July\"]\n",
    "\n",
    "#define the function \n",
    "def find_longest_word(words):\n",
    "    #initialise empty list to calculate the word length\n",
    "    word_len = []\n",
    "    \n",
    "    #to traverse throught the words_list\n",
    "    for n in words:\n",
    "        \n",
    "        #appending length of each words with the respective words\n",
    "        word_len.append((len(n), n))\n",
    "    \n",
    "    #sorting the word_len\n",
    "    word_len.sort()\n",
    "    \n",
    "    \n",
    "    return word_len[-1][1]\n",
    "\n",
    "#Pass words_list as the argument for function call\n",
    "print(find_longest_word(words_list))"
   ]
  },
  {
   "cell_type": "markdown",
   "metadata": {},
   "source": [
    "## 7)Write a program which can compute the factorial of a given numbers.\n",
    "\n",
    "The results should be printed in a comma-separated sequence on a single line.\n",
    "Suppose the following input is supplied to the program:\n",
    "8\n",
    "\n",
    "## Then, the output should be:\n",
    "40320\n",
    "\n",
    "Hints:\n",
    "In case of input data being supplied to the question, it should be assumed to be a console input.\n"
   ]
  },
  {
   "cell_type": "code",
   "execution_count": 9,
   "metadata": {},
   "outputs": [
    {
     "name": "stdout",
     "output_type": "stream",
     "text": [
      "enter the number of which you want to print factorial =8\n",
      "40320\n"
     ]
    }
   ],
   "source": [
    "#define the function and pass the single parameter\n",
    "def fact(x):\n",
    "    #check if x==0\n",
    "    if x == 0:\n",
    "        #return 1\n",
    "        return 1\n",
    "    \n",
    "    return x * fact(x - 1)\n",
    "\n",
    "x=int(input(\"enter the number of which you want to print factorial =\"))\n",
    "\n",
    "#call the function hence passing the parameter x\n",
    "print(fact(x))"
   ]
  },
  {
   "cell_type": "markdown",
   "metadata": {},
   "source": [
    "## 8) With a given integral number n, write a program to generate a dictionary that contains (i, i*i) such that is an integral number between 1 and n (both included). and then the program should print the dictionary.\n",
    "\n",
    "## Suppose the following input is supplied to the program:\n",
    "8\n",
    "\n",
    "## Then, the output should be:\n",
    "{1: 1, 2: 4, 3: 9, 4: 16, 5: 25, 6: 36, 7: 49, 8: 64}\n",
    "\n",
    "Hints:\n",
    "In case of input data being supplied to the question, it should be assumed to be a console input.\n",
    "Consider use dict()"
   ]
  },
  {
   "cell_type": "code",
   "execution_count": 10,
   "metadata": {},
   "outputs": [
    {
     "name": "stdout",
     "output_type": "stream",
     "text": [
      "Enter the number upto which you want to find the squares = 10\n",
      "{1: 1, 2: 4, 3: 9, 4: 16, 5: 25, 6: 36, 7: 49, 8: 64, 9: 81, 10: 100}\n"
     ]
    }
   ],
   "source": [
    "\n",
    "n=int(input(\"Enter the number upto which you want to find the squares = \"))\n",
    "\n",
    "#declare empty dictonary on which results will be shown\n",
    "d=dict()\n",
    "\n",
    "# define range so as to calculate n*n starting from 1\n",
    "for i in range(1,n+1):\n",
    "    \n",
    "    #calcuate i*i\n",
    "    d[i]=i*i\n",
    "\n",
    "print(d)"
   ]
  },
  {
   "cell_type": "markdown",
   "metadata": {},
   "source": [
    "## 9)Write a program which accepts a sequence of comma-separated numbers from console and generate a list and a tuple which contains every number.\n",
    "\n",
    "## Suppose the following input is supplied to the program:\n",
    "34,67,55,33,12,98\n",
    "\n",
    "## Then, the output should be:\n",
    "\n",
    "['34', '67', '55', '33', '12', '98']\n",
    "('34', '67', '55', '33', '12', '98')\n",
    "\n",
    "Hints:\n",
    "In case of input data being supplied to the question, it should be assumed to be a console input.\n",
    "tuple() method can convert list to tuple"
   ]
  },
  {
   "cell_type": "code",
   "execution_count": 11,
   "metadata": {},
   "outputs": [
    {
     "name": "stdout",
     "output_type": "stream",
     "text": [
      "Enter the elements in the list67,87,32,90,38,19\n",
      "['67', '87', '32', '90', '38', '19']\n",
      "('67', '87', '32', '90', '38', '19')\n"
     ]
    }
   ],
   "source": [
    "values=input(\"Enter the elements in the list\")\n",
    "\n",
    "#split the list of elements with the sperator \",\"\n",
    "l=values.split(',')\n",
    "\n",
    "#convert list to tuple\n",
    "t=tuple(l)\n",
    "\n",
    "#print list\n",
    "print(l)\n",
    "\n",
    "#print tuple\n",
    "print(t)"
   ]
  },
  {
   "cell_type": "markdown",
   "metadata": {},
   "source": [
    "## 10)Write a program that accepts sequence of lines as input and prints the lines after making all characters in the sentence capitalized.\n",
    "\n",
    "## Suppose the following input is supplied to the program:\n",
    "Hello world\n",
    "Practice makes perfect\n",
    "\n",
    "\n",
    "## Then, the output should be:\n",
    "HELLO WORLD\n",
    "PRACTICE MAKES PERFECT\n",
    "\n",
    "Hints:\n",
    "In case of input data being supplied to the question, it should be assumed to be a console input.\n"
   ]
  },
  {
   "cell_type": "code",
   "execution_count": 12,
   "metadata": {},
   "outputs": [
    {
     "name": "stdout",
     "output_type": "stream",
     "text": [
      "Enter the sentence you want to change in capitalsHello world! practice make perfect\n",
      "Enter the sentence you want to change in capitalspractice makes perfect\n",
      "Enter the sentence you want to change in capitals\n",
      "HELLO WORLD! PRACTICE MAKE PERFECT\n",
      "PRACTICE MAKES PERFECT\n"
     ]
    }
   ],
   "source": [
    "#Initialise an empty list \"lines\"\n",
    "lines = list()\n",
    "\n",
    "# Condition is always true\n",
    "while True:\n",
    "    \n",
    "    s = input(\"Enter the sentence you want to change in capitals\")\n",
    "    \n",
    "    #check if s\n",
    "    if s:\n",
    "        #append to lines after converting it to upper case. Use upper()\n",
    "        lines.append(s.upper())\n",
    "    else:\n",
    "        break;\n",
    "\n",
    "        \n",
    "for sentence in lines:\n",
    "    print(sentence)"
   ]
  },
  {
   "cell_type": "markdown",
   "metadata": {},
   "source": [
    "## 11)Write a program that accepts a sentence and calculate the number of letters and digits.\n",
    "\n",
    "## Suppose the following input is supplied to the program:\n",
    "hello world! 123\n",
    "\n",
    "## Then, the output should be:\n",
    "LETTERS 10\n",
    "DIGITS 3\n",
    "\n",
    "Hints:\n",
    "In case of input data being supplied to the question, it should be assumed to be a console input.\n"
   ]
  },
  {
   "cell_type": "code",
   "execution_count": 13,
   "metadata": {},
   "outputs": [
    {
     "name": "stdout",
     "output_type": "stream",
     "text": [
      "Hellow World! 12245\n",
      "LETTERS 11\n",
      "DIGITS 5\n"
     ]
    }
   ],
   "source": [
    "s = input()\n",
    "\n",
    "#initialise a dictonary with elements values as 0\n",
    "d={\"DIGITS\":0, \"LETTERS\":0}\n",
    "\n",
    "for c in s:\n",
    "    \n",
    "    \n",
    "    #check for digits in sentence given as input using isdigit()\n",
    "    if c.isdigit():\n",
    "        \n",
    "        #add +1 for each digit found\n",
    "        d[\"DIGITS\"]+= 1\n",
    "        \n",
    "    #add +1 for each alphabet found using isaplha()  \n",
    "    elif c.isalpha():\n",
    "        d[\"LETTERS\"]+=1\n",
    "    else:\n",
    "        pass\n",
    "    \n",
    "print(\"LETTERS\", d[\"LETTERS\"])\n",
    "print(\"DIGITS\", d[\"DIGITS\"])\n"
   ]
  },
  {
   "cell_type": "markdown",
   "metadata": {},
   "source": [
    "## 12)Write a program that accepts a sentence and calculate the number of upper case letters and lower case letters.\n",
    "\n",
    "## Suppose the following input is supplied to the program:\n",
    "Hi, Welcome to AcadGild\n",
    "\n",
    "## Then, the output should be:\n",
    "UPPER CASE 4\n",
    "\n",
    "LOWER CASE 15\n",
    "\n",
    "Hints:\n",
    "In case of input data being supplied to the question, it should be assumed to be a console input."
   ]
  },
  {
   "cell_type": "code",
   "execution_count": 14,
   "metadata": {},
   "outputs": [
    {
     "name": "stdout",
     "output_type": "stream",
     "text": [
      "Hi, Welcome to AcadGild\n",
      "UPPER CASE 4\n",
      "LOWER CASE 15\n"
     ]
    }
   ],
   "source": [
    "s = input()\n",
    "\n",
    "#initialise a dictonary with elements values as 0\n",
    "d={\"UPPER CASE\":0, \"LOWER CASE\":0}\n",
    "\n",
    "for c in s:\n",
    "    \n",
    "    #check for upper letters in sentence given as input using isupper()\n",
    "    if c.isupper():\n",
    "        #add +1 for each uppercase found\n",
    "        d[\"UPPER CASE\"]+=1\n",
    "    \n",
    "    #check for lower letters in sentence given as input using islower()\n",
    "    elif c.islower():\n",
    "        \n",
    "        #add +1 for each lowercase found\n",
    "         d[\"LOWER CASE\"]+=1\n",
    "    else:\n",
    "        pass\n",
    "print(\"UPPER CASE\", d[\"UPPER CASE\"])\n",
    "print(\"LOWER CASE\", d[\"LOWER CASE\"])"
   ]
  },
  {
   "cell_type": "markdown",
   "metadata": {},
   "source": [
    "## 13)Subset and calculate\n",
    "After you've extracted values from a list, you can use them to perform additional calculations. Take this example, where the second and fourth element of a list x are extracted. The strings that result are pasted together using the + operator:\n",
    "\n",
    "x = [\"a\", \"b\", \"c\", \"d\"]\n",
    "print(x[1] + x[3])\n",
    "\n",
    "## Question\n",
    "\n",
    "Using a combination of list subsetting and variable assignment, create a new variable, eat_sleep_area, that contains the sum of the area of the kitchen and the area of the bedroom.\n",
    "\n",
    "## Print the new variable eat_sleep_area.\n"
   ]
  },
  {
   "cell_type": "code",
   "execution_count": 15,
   "metadata": {},
   "outputs": [
    {
     "name": "stdout",
     "output_type": "stream",
     "text": [
      "28.75\n"
     ]
    }
   ],
   "source": [
    "# Create the areas list\n",
    "areas = [\"hallway\", 11.25, \"kitchen\", 18.0, \"living room\", 20.0, \"bedroom\", 10.75, \"bathroom\", 9.50]\n",
    "\n",
    "# Sum of kitchen and bedroom area: eat_sleep_area\n",
    "\n",
    "eat_sleep_area = areas[3] + areas[7]\n",
    "\n",
    "# Print the variable eat_sleep_area\n",
    "print (eat_sleep_area)\n"
   ]
  },
  {
   "cell_type": "markdown",
   "metadata": {},
   "source": [
    "## 14)Slicing and dicing\n",
    "Selecting single values from a list is just one part of the story. It's also possible to slice your list, which means selecting multiple elements from your list. Use the following syntax:\n",
    "\n",
    "my_list[start:end]\n",
    "The start index will be included, while the end index is not.\n",
    "\n",
    "The code sample below shows an example. A list with \"b\" and \"c\", corresponding to indexes 1 and 2, are selected from a list x:\n",
    "\n",
    "x = [\"a\", \"b\", \"c\", \"d\"]\n",
    "x[1:3]\n",
    "The elements with index 1 and 2 are included, while the element with index 3 is not.\n",
    "\n",
    "## Question\n",
    "\n",
    "Use slicing to create a list, downstairs, that contains the first 6 elements of areas.\n",
    "Do a similar thing to create a new variable, upstairs, that contains the last 4 elements of areas.\n",
    "\n",
    "## Print both downstairs and upstairs using print().\n"
   ]
  },
  {
   "cell_type": "code",
   "execution_count": 16,
   "metadata": {},
   "outputs": [
    {
     "name": "stdout",
     "output_type": "stream",
     "text": [
      "['hallway', 11.25, 'kitchen', 18.0, 'living room', 20.0]\n",
      "['bedroom', 10.75, 'bathroom', 9.5]\n"
     ]
    }
   ],
   "source": [
    "# Create the areas list\n",
    "areas = [\"hallway\", 11.25, \"kitchen\", 18.0, \"living room\", 20.0, \"bedroom\", 10.75, \"bathroom\", 9.50]\n",
    "\n",
    "# Use slicing to create downstairs\n",
    "downstairs = areas[0:6]\n",
    "\n",
    "# Use slicing to create upstairs\n",
    "upstairs = areas[-4:len(areas)]\n",
    "\n",
    "# Print out downstairs and upstairs\n",
    "print (downstairs)\n",
    "print (upstairs)"
   ]
  },
  {
   "cell_type": "markdown",
   "metadata": {},
   "source": [
    "## 15)Slicing and dicing (2)\n",
    "\n",
    "my_list[begin:end]\n",
    "\n",
    "However, it's also possible not to specify these indexes. If you don't specify the begin index, Python figures out that you want to start your slice at the beginning of your list. If you don't specify the end index, the slice will go all the way to the last element of your list. To experiment with this, try the following commands in the IPython Shell:\n",
    "\n",
    "x = [\"a\", \"b\", \"c\", \"d\"]\n",
    "x[:2]\n",
    "x[2:]\n",
    "x[:]\n",
    "\n",
    "## Question\n",
    "\n",
    "Use slicing to create the lists downstairs and upstairs again, but this time without using indexes if it's not necessary. Remember downstairs is the first 6 elements of areas and upstairs is the last 4 elements of areas."
   ]
  },
  {
   "cell_type": "code",
   "execution_count": 17,
   "metadata": {},
   "outputs": [
    {
     "name": "stdout",
     "output_type": "stream",
     "text": [
      "['hallway', 11.25, 'kitchen', 18.0, 'living room', 20.0]\n",
      "['bedroom', 10.75, 'bathroom', 9.5]\n"
     ]
    }
   ],
   "source": [
    "# Create the areas list\n",
    "areas = [\"hallway\", 11.25, \"kitchen\", 18.0, \"living room\", 20.0, \"bedroom\", 10.75, \"bathroom\", 9.50]\n",
    "\n",
    "# Alternative slicing to create downstairs\n",
    "downstairs = areas[:6]\n",
    "\n",
    "# Alternative slicing to create upstairs\n",
    "upstairs = areas[-4:]\n",
    "\n",
    "# Print out downstairs and upstairs\n",
    "print (downstairs)\n",
    "print (upstairs)\n"
   ]
  },
  {
   "cell_type": "markdown",
   "metadata": {},
   "source": [
    "## 16)  Python offers a bunch of built-in functions to make your life as a data scientist easier. You already know two such functions: print() and type(). You've also used the functions str(), int(), bool() and float() to switch between data types. These are built-in functions as well.\n",
    "\n",
    "## Question\n",
    "\n",
    "Use print() in combination with type() to print out the type of var1.\n",
    "Use len() to get the length of the list var1. Wrap it in a print() call to directly print it out.\n",
    "Use int() to convert var2 to an integer. Store the output as out2.\n",
    "\n",
    "\n"
   ]
  },
  {
   "cell_type": "code",
   "execution_count": 18,
   "metadata": {},
   "outputs": [
    {
     "name": "stdout",
     "output_type": "stream",
     "text": [
      "<class 'list'>\n",
      "4\n",
      "1\n"
     ]
    }
   ],
   "source": [
    "# Create variables var1 and var2\n",
    "var1 = [1,2,3,4]\n",
    "var2 = True\n",
    "\n",
    "# Print out type of var1\n",
    "result = type(var1)\n",
    "\n",
    "# print result\n",
    "print (result)\n",
    "\n",
    "# Print out length of var1\n",
    "print (len(var1))\n",
    "\n",
    "# Convert var2 to an integer: out2\n",
    "out2 = int(var2)\n",
    "print (out2)\n"
   ]
  },
  {
   "cell_type": "markdown",
   "metadata": {},
   "source": [
    "## 17) Please write a program which count and print the numbers of each character in a string input by console.\n",
    "\n",
    "## Example:\n",
    "\n",
    "## If the following string is given as input to the program:\n",
    "\n",
    "abcdefgabc\n",
    "\n",
    "## Then, the output of the program should be:\n",
    "\n",
    "a,2\n",
    "c,2\n",
    "b,2\n",
    "e,1\n",
    "d,1\n",
    "g,1\n",
    "f,1\n",
    "\n",
    "Hints:\n",
    "Use dict to store key/value pairs.\n",
    "Use dict.get() method to lookup a key with default value.\n"
   ]
  },
  {
   "cell_type": "code",
   "execution_count": 19,
   "metadata": {},
   "outputs": [
    {
     "name": "stdout",
     "output_type": "stream",
     "text": [
      "Enter the sentenceabcdefghabdc\n",
      "a,2\n",
      "b,2\n",
      "c,2\n",
      "d,2\n",
      "e,1\n",
      "f,1\n",
      "g,1\n",
      "h,1\n"
     ]
    }
   ],
   "source": [
    "#This question is to learn the concept from the solution\n",
    "\n",
    "#delcare an empty dictonary \"dic\" to show the output\n",
    "dic = {}\n",
    "\n",
    "s=input(\"Enter the sentence\")\n",
    "for s in s:\n",
    "    \n",
    "    dic[s] = dic.get(s,0)+1\n",
    "print('\\n'.join(['%s,%s' % (k, v) for k, v in dic.items()]))\n"
   ]
  },
  {
   "cell_type": "markdown",
   "metadata": {},
   "source": [
    "## 18) Please write a program which accepts a string from console and print it in reverse order.\n",
    "\n",
    "## Example:\n",
    "\n",
    "## If the following string is given as input to the program:\n",
    "\n",
    "Welcome to AcadGild\n",
    "\n",
    "## Then, the output of the program should be:\n",
    "\n",
    "dliGdacA ot emocleW\n",
    "\n",
    "## Hint:\n",
    "Use list[::-1] to iterate a list in a reverse order."
   ]
  },
  {
   "cell_type": "code",
   "execution_count": 20,
   "metadata": {},
   "outputs": [
    {
     "name": "stdout",
     "output_type": "stream",
     "text": [
      "Enter the sentence you want to reverseWelcome to AcadGild\n",
      "dliGdacA ot emocleW\n"
     ]
    }
   ],
   "source": [
    "s=input(\"Enter the sentence you want to reverse\")\n",
    "\n",
    "#use hint and replace the enitre ****** with complete logic\n",
    "\n",
    "s = s[::-1]\n",
    "print(s)\n",
    " "
   ]
  },
  {
   "cell_type": "markdown",
   "metadata": {},
   "source": [
    "## 19)Please write a program which accepts a string from console and print the characters that have even indexes.\n",
    "\n",
    "## Example:\n",
    "\n",
    "## If the following string is given as input to the program:\n",
    "\n",
    "H1e2l3l4o5w6o7r8l9d\n",
    "\n",
    "## Then, the output of the program should be:\n",
    "\n",
    "Helloworld\n",
    "\n",
    "Hints:\n",
    "Use list[::2] to iterate a list by step 2.\n"
   ]
  },
  {
   "cell_type": "code",
   "execution_count": 21,
   "metadata": {},
   "outputs": [
    {
     "name": "stdout",
     "output_type": "stream",
     "text": [
      "enter the sentence to print the characters that have even indexesH1e2l3l4o5w6o7r8l9d\n",
      "Helloworld\n"
     ]
    }
   ],
   "source": [
    "s=input(\"enter the sentence to print the characters that have even indexes\")\n",
    "\n",
    "#use hints and replace the enitre ****** with complete logic\n",
    "s = s[::2]\n",
    "\n",
    "print(s)\n",
    " "
   ]
  },
  {
   "cell_type": "markdown",
   "metadata": {},
   "source": [
    "## 20)Print the items in the list in ascending order.\n",
    "\n",
    "## Sample_list = [15, 1, 4, 19, 3,7]\n",
    "\n",
    "## Expected Output =\n",
    "1\n",
    "3\n",
    "4\n",
    "7\n",
    "15\n",
    "19¶"
   ]
  },
  {
   "cell_type": "code",
   "execution_count": 22,
   "metadata": {},
   "outputs": [
    {
     "name": "stdout",
     "output_type": "stream",
     "text": [
      "1 3 4 7 15 19 "
     ]
    }
   ],
   "source": [
    "#initialize a list\n",
    "Sample_list= [15, 1, 4, 19, 3,7]\n",
    "\n",
    "#for each item in sample_list,\n",
    "for i in sorted(Sample_list):\n",
    "        \n",
    "        # print the item\n",
    "        print (i, end=' ')"
   ]
  },
  {
   "cell_type": "markdown",
   "metadata": {},
   "source": [
    "## 21)String Conversion using functions lowercase to uppercase and uppercase to lowercase\n",
    "\n",
    "## Sample_String = \"AltERNating\"\n",
    "\n",
    "## Expected Output =\n",
    "aLTernATING\n"
   ]
  },
  {
   "cell_type": "code",
   "execution_count": 23,
   "metadata": {},
   "outputs": [
    {
     "name": "stdout",
     "output_type": "stream",
     "text": [
      "aLTernATING\n"
     ]
    }
   ],
   "source": [
    "#initialize test \n",
    "test = \"AltERNating\"\n",
    "\n",
    "# define function by name to_alternating_case and pass a parameter string\n",
    "def to_alternating_case(test): #pass a parameter named string\n",
    "    \n",
    "    #initialize empty string\n",
    "    res = \"\"\n",
    "    \n",
    "    #iterate over the string using for loop\n",
    "    for alphabet in test:\n",
    "\n",
    "#Check if alphabet is uppercase==True\n",
    "        if alphabet.isupper():\n",
    "\n",
    "#Convert alphabet into lowercase\n",
    "            res = res + alphabet.lower()\n",
    "    \n",
    "#Else convert it to uppercase\n",
    "        else:\n",
    "            res = res + alphabet.upper()\n",
    "\n",
    "#return res\n",
    "    return res \n",
    "\n",
    "\n",
    "print(to_alternating_case(test))"
   ]
  },
  {
   "cell_type": "markdown",
   "metadata": {},
   "source": [
    "## 22)Create a file named : testFile\n",
    "\n",
    "Write the contents into it\n",
    "\n",
    "Close the file\n",
    "\n",
    "Contents to be written is :-\n",
    "\n",
    "## Hello World\n",
    "## Welcome to AcadGild\n",
    "## Learn and do earn\n",
    "## Because we can\n",
    "\n",
    "# open the file in write mode\n",
    "file = open(\"Path to the file/testfile.txt\",\"w\") \n",
    " #write contents into it\n",
    "file.write(\"Hello World /n\") \n",
    "\n",
    "file.write(\"Welcome to AcadGild /n\") \n",
    "\n",
    "file.write(\"Learn and do earn /n\") \n",
    "\n",
    "file.write(\"because we can. /n\") \n",
    "\n",
    "file.close()"
   ]
  },
  {
   "cell_type": "code",
   "execution_count": 24,
   "metadata": {
    "collapsed": true
   },
   "outputs": [],
   "source": [
    "import os\n",
    "workingdirectory = os.getcwd()\n",
    "workingdirectory\n",
    "file = open(workingdirectory +\"/testfile.txt\",\"w\") \n",
    "#write contents into it \n",
    "file.write(\"Hello World \\n\") \n",
    "file.write(\"Welcome to AcadGild \\n\") \n",
    "file.write(\"Learn and do earn \\n\") \n",
    "file.write(\"because we can. \\n\") \n",
    "file.close()"
   ]
  },
  {
   "cell_type": "markdown",
   "metadata": {},
   "source": [
    "## 23) Open the same file testfile.txt and do the following operations.\n",
    "Q.1) Print word “hello”\n",
    "\n",
    "Q.2) Print the line as the given format¶\n",
    "\n",
    "['Hello World \\n', 'Welcome to AcadGild \\n', 'Learn and do earn \\n', 'because we can.']"
   ]
  },
  {
   "cell_type": "code",
   "execution_count": 25,
   "metadata": {},
   "outputs": [
    {
     "name": "stdout",
     "output_type": "stream",
     "text": [
      "Hello\n",
      "['Welcome to AcadGild \\n', 'Learn and do earn \\n', 'because we can. \\n']\n"
     ]
    }
   ],
   "source": [
    "file = open(workingdirectory +\"/testfile.txt\",\"r\") \n",
    "\n",
    "print(file.readline().split(\" \")[0])\n",
    "\n",
    "print(file.readlines())\n"
   ]
  },
  {
   "cell_type": "markdown",
   "metadata": {},
   "source": [
    "## 24) Write a Python program to find out the longest word from the file : testfile.txt\n",
    "\n",
    "This question is to help in getting the concepts of file after seeing the complete solution given below"
   ]
  },
  {
   "cell_type": "code",
   "execution_count": 26,
   "metadata": {},
   "outputs": [
    {
     "name": "stdout",
     "output_type": "stream",
     "text": [
      "['AcadGild']\n"
     ]
    }
   ],
   "source": [
    "#define function: longest_word with one parameter \"filename\"\n",
    "def longest_word(filename):\n",
    "    with open(filename, 'r') as infile:\n",
    "# read the file line by line and split it\n",
    "              words = infile.read().split()\n",
    "# find the maximum length of the word\n",
    "    max_len = len(max(words, key=len))\n",
    "#return that word whose length  matches with max_len\n",
    "    return [word for word in words if len(word) == max_len]\n",
    "# function call :longest word and the path of the file name as parameter\n",
    "print(longest_word(workingdirectory+\"/testfile.txt\"))"
   ]
  },
  {
   "cell_type": "markdown",
   "metadata": {},
   "source": [
    "## 25) Write a program which prints all permutations of [1,2,3]\n",
    "\n",
    "Hints:\n",
    "Use itertools.permutations() to get permutations of list.\n",
    "\n",
    "This question is to help in getting the concepts of file after seeing the complete solution given below"
   ]
  },
  {
   "cell_type": "code",
   "execution_count": 27,
   "metadata": {},
   "outputs": [
    {
     "name": "stdout",
     "output_type": "stream",
     "text": [
      "[(1, 2, 3), (1, 3, 2), (2, 1, 3), (2, 3, 1), (3, 1, 2), (3, 2, 1)]\n"
     ]
    }
   ],
   "source": [
    "import itertools\n",
    "\n",
    "#to get all the possibilites of 1,2,3 combinations\n",
    "print (list(itertools.permutations([1,2,3])))"
   ]
  },
  {
   "cell_type": "markdown",
   "metadata": {},
   "source": [
    "## 26) Remove empty tuples from a list\n",
    "\n",
    "Input : tuples = [(), ('ram','15','8'), (), ('laxman', 'sita'), \n",
    "                  ('krishna', 'akbar', '45'), ('',''),()]\n",
    "                  \n",
    "                  \n",
    "Output : [('ram', '15', '8'), ('laxman', 'sita'), \n",
    "          ('krishna', 'akbar', '45'), ('', '')]"
   ]
  },
  {
   "cell_type": "code",
   "execution_count": 28,
   "metadata": {},
   "outputs": [
    {
     "name": "stdout",
     "output_type": "stream",
     "text": [
      "[('ram', '15', '8'), ('laxman', 'sita'), ('krishna', 'akbar', '45'), ('', '')]\n"
     ]
    }
   ],
   "source": [
    "#define function defination passing parameter \"tuples\"\n",
    "def Remove(tuples): \n",
    "    #list comprehensions concept\n",
    "    tuples = [t for t in tuples if t] \n",
    "    return tuples \n",
    "\n",
    "#initialise list with an empty tuple\n",
    "tuples = [(), ('ram','15','8'), (), ('laxman', 'sita'),  \n",
    "          ('krishna', 'akbar', '45'), ('',''),()] \n",
    "\n",
    "#pass the paramter \"tuples\" to call the function\n",
    "print(Remove(tuples))"
   ]
  },
  {
   "cell_type": "markdown",
   "metadata": {},
   "source": [
    "## 27)Convert a list of characters into a string\n",
    "\n",
    "Input : ['p', 'r', 'o', 'g', 'r', 'a', 'm', \n",
    "                        'm', 'i', 'n', 'g']\n",
    "\n",
    "\n",
    "Output : programming "
   ]
  },
  {
   "cell_type": "code",
   "execution_count": 29,
   "metadata": {},
   "outputs": [
    {
     "name": "stdout",
     "output_type": "stream",
     "text": [
      "programming\n"
     ]
    }
   ],
   "source": [
    "#function defination with one parameter  \n",
    "def convert(_list): \n",
    "  \n",
    "    # initialization of string to \"\" \n",
    "    new = \"\" \n",
    "  \n",
    "    # traverse in the string  \n",
    "    for x in _list: \n",
    "        new += x  \n",
    "  \n",
    "    # return string  \n",
    "    return new \n",
    "      \n",
    "      \n",
    "#initialise list s with characters   \n",
    "s = ['p', 'r', 'o', 'g', 'r', 'a', 'm', 'm', 'i', 'n', 'g'] \n",
    "\n",
    "#pass \"s\" as parameter to call the function\n",
    "print(convert(s)) "
   ]
  },
  {
   "cell_type": "markdown",
   "metadata": {},
   "source": [
    "## 28) Write a Python program groupby method to remove all consecutive duplicates\n",
    "\n",
    "Input  : aaaaabbbbbb\n",
    "\n",
    "\n",
    "Output : ab\n",
    "\n",
    "This question is to help in getting the concepts after seeing the complete solution given below\n"
   ]
  },
  {
   "cell_type": "code",
   "execution_count": 30,
   "metadata": {},
   "outputs": [
    {
     "name": "stdout",
     "output_type": "stream",
     "text": [
      "ab\n"
     ]
    }
   ],
   "source": [
    "from itertools import groupby \n",
    "def removeAllConsecutive(input): \n",
    "    \n",
    "     # group all consecutive characters based on their  \n",
    "     # order in string and we are only concerned \n",
    "     # about first character of each consecutive substring \n",
    "     # in given string, so key value will work for us \n",
    "     # and we will join these keys without space to  \n",
    "     # generate resultant string \n",
    "    result = [] \n",
    "    for (key,group) in groupby(input): \n",
    "          result.append(key) \n",
    "  \n",
    "    print (''.join(result)) \n",
    "       \n",
    "# Driver program \n",
    "if __name__ == \"__main__\": \n",
    "    input = 'aaaaabbbbbb'\n",
    "    removeAllConsecutive(input) "
   ]
  },
  {
   "cell_type": "markdown",
   "metadata": {},
   "source": [
    "## 29)Write a python program to sum all the elements in the list"
   ]
  },
  {
   "cell_type": "code",
   "execution_count": 31,
   "metadata": {},
   "outputs": [
    {
     "name": "stdout",
     "output_type": "stream",
     "text": [
      "-5\n"
     ]
    }
   ],
   "source": [
    "#define the function and pass an argument\"items\" as parameter\n",
    "def sum_list(items):\n",
    "    \n",
    "    #initialise sum_numbers to 0\n",
    "    sum_numbers = 0\n",
    "    \n",
    "    # Iterate over items\n",
    "    for x in items:\n",
    "        \n",
    "        #add each x to sum_numbers\n",
    "        sum_numbers = sum_numbers + x\n",
    "        \n",
    "        #return sum_numbers\n",
    "    return sum_numbers\n",
    "\n",
    "print(sum_list([1,2,-8]))"
   ]
  },
  {
   "cell_type": "markdown",
   "metadata": {},
   "source": [
    "## 30)Write a Python program that multiplies all the items in a list.\n",
    "\n"
   ]
  },
  {
   "cell_type": "code",
   "execution_count": 32,
   "metadata": {},
   "outputs": [
    {
     "name": "stdout",
     "output_type": "stream",
     "text": [
      "120\n"
     ]
    }
   ],
   "source": [
    "# solution is same as above but operation here is multiplication\n",
    "\n",
    "def multiplyListItems(_list):\n",
    "    result = 1\n",
    "    \n",
    "    for i in _list:\n",
    "        result = result * i\n",
    "\n",
    "    return result \n",
    "\n",
    "print(multiplyListItems([1,2,3,4,5]))\n"
   ]
  },
  {
   "cell_type": "markdown",
   "metadata": {},
   "source": [
    "## 31)Write a Python program to count the number of strings where the string length is 2 or more and the first and last character are same from a given list of strings.\n",
    "\n",
    "## Sample List : ['abc', 'xyz', 'ab', '1221']\n",
    "## Expected Result : 1"
   ]
  },
  {
   "cell_type": "code",
   "execution_count": 33,
   "metadata": {},
   "outputs": [
    {
     "name": "stdout",
     "output_type": "stream",
     "text": [
      "1\n"
     ]
    }
   ],
   "source": [
    "# define the function passing \"word\" as paramter\n",
    "def match_words(words):\n",
    "    \n",
    "    # initialise a counter variable \"ctr\" to 0\n",
    "    ctr = 0\n",
    "    \n",
    "    #iterate over words\n",
    "    for word in words:\n",
    "        if len(word) > 1 and word[0] == word[-1]:\n",
    "            \n",
    "            #Increase counter variable by 1\n",
    "            ctr +=1\n",
    "            \n",
    "            #return counter variable\n",
    "            return ctr\n",
    "\n",
    "print(match_words(['abc', 'xyz', 'ab', '1221']))"
   ]
  },
  {
   "cell_type": "markdown",
   "metadata": {},
   "source": [
    "## 32)Write a Python script to sort (ascending and descending) a dictionary by value\n",
    "\n",
    "## Input: \n",
    "d = {1: 2, 3: 4, 4: 3, 2: 1, 0: 0}\n",
    "\n",
    "## Output: \n",
    "Dictionary in ascending order by value :  [(0, 0), (1, 2), (2, 1), (3, 4), (4, 3)]\n",
    "\n",
    "Dictionary in descending order by value :  [(4, 3), (3, 4), (2, 1), (1, 2), (0, 0)]\n",
    "\n",
    "## This question has the complete solution to get the clear concepts analysing the solution"
   ]
  },
  {
   "cell_type": "code",
   "execution_count": 34,
   "metadata": {},
   "outputs": [
    {
     "name": "stdout",
     "output_type": "stream",
     "text": [
      "Original dictionary :  {1: 2, 3: 4, 4: 3, 2: 1, 0: 0}\n",
      "Dictionary in ascending order by value :  [(0, 0), (1, 2), (2, 1), (3, 4), (4, 3)]\n",
      "Dictionary in descending order by value :  [(4, 3), (3, 4), (2, 1), (1, 2), (0, 0)]\n"
     ]
    }
   ],
   "source": [
    "import operator\n",
    "d = {1: 2, 3: 4, 4: 3, 2: 1, 0: 0}\n",
    "print('Original dictionary : ',d)\n",
    "sorted_d = sorted(d.items(), key=operator.itemgetter(0))\n",
    "print('Dictionary in ascending order by value : ',sorted_d)\n",
    "sorted_d = sorted(d.items(), key=operator.itemgetter(0),reverse=True)\n",
    "print('Dictionary in descending order by value : ',sorted_d)"
   ]
  },
  {
   "cell_type": "markdown",
   "metadata": {},
   "source": [
    "## 33)Write a Python script to concatenate following dictionaries to create a new one.\n",
    "\n",
    "## Sample Dictionary : \n",
    "dic1={1:10, 2:20} \n",
    "\n",
    "dic2={3:30, 4:40} \n",
    "\n",
    "dic3={5:50,6:60}\n",
    "\n",
    "## Expected Result : {1: 10, 2: 20, 3: 30, 4: 40, 5: 50, 6: 60}"
   ]
  },
  {
   "cell_type": "code",
   "execution_count": 35,
   "metadata": {},
   "outputs": [
    {
     "name": "stdout",
     "output_type": "stream",
     "text": [
      "{1: 10, 2: 20, 3: 30, 4: 40, 5: 50, 6: 60}\n"
     ]
    }
   ],
   "source": [
    "# steps to get the soltuion\n",
    "\n",
    "#Initialise 3 dictonaries with elements as key-value pairs\n",
    "#Initialise an empty dictonary\n",
    "#Iterate over all three dictonaries at a time using one for loop and use update() method to update in 4th dictonary\n",
    "\n",
    "dic1={1:10, 2:20} \n",
    "dic2={3:30, 4:40} \n",
    "dic3={5:50, 6:60}\n",
    "\n",
    "result = dict()\n",
    "for d in [dic1, dic2, dic3]:\n",
    "    result.update(d)\n",
    "    \n",
    "print(result)\n"
   ]
  },
  {
   "cell_type": "markdown",
   "metadata": {},
   "source": [
    "## 34)Write a Python program to sum all the items in a dictionary"
   ]
  },
  {
   "cell_type": "code",
   "execution_count": 36,
   "metadata": {},
   "outputs": [
    {
     "name": "stdout",
     "output_type": "stream",
     "text": [
      "293\n"
     ]
    }
   ],
   "source": [
    "my_dict = {'data1':100,'data2':-54,'data3':247}\n",
    "\n",
    "#use sum(my_dict.vaues()) to sum all the values \n",
    "print(sum(my_dict.values()))"
   ]
  },
  {
   "cell_type": "markdown",
   "metadata": {},
   "source": [
    "## 35)Write a Python program to create and display all combinations of letters, selecting each letter from a different key in a dictionary\n",
    "## Sample data : \n",
    "\n",
    "{'1':['a','b'], '2':['c','d']}\n",
    "## Expected Output: \n",
    "\n",
    "ac\n",
    "\n",
    "ad\n",
    "\n",
    "bc\n",
    "\n",
    "bd\n",
    "\n",
    "## This question has the complete solution to get the clear concepts analysing the solution"
   ]
  },
  {
   "cell_type": "code",
   "execution_count": 37,
   "metadata": {},
   "outputs": [
    {
     "name": "stdout",
     "output_type": "stream",
     "text": [
      "ac\n",
      "ad\n",
      "bc\n",
      "bd\n"
     ]
    }
   ],
   "source": [
    "import itertools      \n",
    "d ={'1':['a','b'], '2':['c','d']}\n",
    "for combo in itertools.product(*[d[k] for k in sorted(d.keys())]):\n",
    "    print(''.join(combo))"
   ]
  }
 ],
 "metadata": {
  "kernelspec": {
   "display_name": "Python 3",
   "language": "python",
   "name": "python3"
  },
  "language_info": {
   "codemirror_mode": {
    "name": "ipython",
    "version": 3
   },
   "file_extension": ".py",
   "mimetype": "text/x-python",
   "name": "python",
   "nbconvert_exporter": "python",
   "pygments_lexer": "ipython3",
   "version": "3.6.2"
  }
 },
 "nbformat": 4,
 "nbformat_minor": 2
}
